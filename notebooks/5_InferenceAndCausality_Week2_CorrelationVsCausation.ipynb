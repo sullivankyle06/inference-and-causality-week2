{
 "cells": [
  {
   "cell_type": "markdown",
   "id": "36049303",
   "metadata": {},
   "source": [
    "\n",
    "# Unit 2 Notebook — Correlation & Granger Causality\n",
    "\n",
    "*A practical walkthrough with simulations you can tweak.*  \n",
    "**Topics:** Pearson correlation • Time-series intuition • Granger causality (predictive)  \n"
   ]
  },
  {
   "cell_type": "code",
   "execution_count": null,
   "id": "817f2227",
   "metadata": {},
   "outputs": [],
   "source": [
    "# Setup\n",
    "import numpy as np\n",
    "import pandas as pd\n",
    "import matplotlib.pyplot as plt\n",
    "\n",
    "# Statsmodels for Granger causality\n",
    "import statsmodels.api as sm\n",
    "from statsmodels.tsa.stattools import grangercausalitytests\n",
    "\n",
    "np.random.seed(42)\n",
    "pd.options.display.precision = 4\n"
   ]
  },
  {
   "cell_type": "markdown",
   "id": "108f13f2",
   "metadata": {},
   "source": [
    "\n",
    "## 1) Pearson Correlation — intuition first\n",
    "\n",
    "**What it measures:** Strength and direction (meaning sign, positive or negative, not temporal or causal direction) of a *linear* relationship between two quantitative variables.  \n",
    "**Range:** -1 (perfect negative) to +1 (perfect positive); 0 means *no linear* relationship.\n",
    "\n",
    "We'll simulate two scenarios:\n",
    "1. **Linear relationship**: clear positive correlation.\n",
    "2. **Curvy relationship**: strong association but *Pearson misses it* (hint: it's not linear).\n",
    "\n",
    "### Pearson loves straight lines. Curves? Not so much.\n"
   ]
  },
  {
   "cell_type": "code",
   "execution_count": null,
   "id": "360c9cac",
   "metadata": {},
   "outputs": [],
   "source": [
    "# --- Scenario 1: Linear relationship ---\n",
    "n = 250\n",
    "x = np.linspace(0, 10, n)\n",
    "y = 2.0 * x + np.random.normal(0, 2, size=n)\n",
    "\n",
    "r_linear = np.corrcoef(x, y)[0,1]\n",
    "print(f\"Pearson r (linear case): {r_linear:.3f}\")\n",
    "\n",
    "plt.figure(figsize=(6,4))\n",
    "plt.scatter(x, y, alpha=0.7)\n",
    "plt.title(f\"Linear relationship — Pearson r = {r_linear:.3f}\")\n",
    "plt.xlabel(\"x\")\n",
    "plt.ylabel(\"y\")\n",
    "plt.tight_layout()\n",
    "plt.show()\n"
   ]
  },
  {
   "cell_type": "code",
   "execution_count": null,
   "id": "cf33f7c1",
   "metadata": {},
   "outputs": [],
   "source": [
    "# --- Scenario 2: Nonlinear relationship (Pearson underestimates) ---\n",
    "n = 300\n",
    "x2 = np.linspace(-3, 3, n)\n",
    "y2 = x2**2 + np.random.normal(0, 0.8, size=n)\n",
    "\n",
    "r_nonlinear = np.corrcoef(x2, y2)[0,1]\n",
    "print(f\"Pearson r (nonlinear case): {r_nonlinear:.3f}  <-- low, despite obvious association\")\n",
    "\n",
    "plt.figure(figsize=(6,4))\n",
    "plt.scatter(x2, y2, alpha=0.7)\n",
    "plt.title(f\"Nonlinear relationship — Pearson r = {r_nonlinear:.3f}\")\n",
    "plt.xlabel(\"x2\")\n",
    "plt.ylabel(\"y2\")\n",
    "plt.tight_layout()\n",
    "plt.show()\n",
    "\n",
    "# Note: Pearson focuses on linear association;\n",
    "# There are nonlinear alternative for Pearson, look up Spearman or Kendall correlation if you're interested."
   ]
  },
  {
   "cell_type": "markdown",
   "id": "316c08c2",
   "metadata": {},
   "source": [
    "\n",
    "## 2) From correlation to *temporal* predictiveness\n",
    "\n",
    "Correlation is **atemporal**: it ignores *order*.  \n",
    "Time series let us ask a new question:\n",
    "\n",
    "> **Does the past of X help predict the future of Y (beyond Y's own past)?**\n",
    "\n",
    "That's the idea behind **Granger causality**.\n"
   ]
  },
  {
   "cell_type": "markdown",
   "id": "4d15ec9f",
   "metadata": {},
   "source": [
    "\n",
    "### 2.1 Simulating a simple causal story (X → Y)\n",
    "\n",
    "We'll create a system where **X drives Y with a lag**:\n",
    "- Xₜ = 0.7·Xₜ₋₁ + noise\n",
    "- Yₜ = 0.6·Yₜ₋₁ + **0.8·Xₜ₋₁** + noise\n",
    "\n",
    "If the test works, we should find: **X Granger-causes Y**, but **Y does not Granger-cause X**.\n"
   ]
  },
  {
   "cell_type": "code",
   "execution_count": null,
   "id": "7db2cf97",
   "metadata": {},
   "outputs": [],
   "source": [
    "\n",
    "def simulate_var1(n=400, burn=50, ax=0.7, ay=0.6, b_xy=0.8, b_yx=0.0, sx=1.0, sy=1.0):\n",
    "    X = np.zeros(n + burn)\n",
    "    Y = np.zeros(n + burn)\n",
    "    for t in range(1, n + burn):\n",
    "        X[t] = ax * X[t-1] + np.random.normal(scale=sx)\n",
    "        Y[t] = ay * Y[t-1] + b_xy * X[t-1] + np.random.normal(scale=sy)\n",
    "    return X[burn:], Y[burn:]\n",
    "\n",
    "X, Y = simulate_var1()\n",
    "df = pd.DataFrame({\"X\": X, \"Y\": Y})\n",
    "df.head()\n"
   ]
  },
  {
   "cell_type": "code",
   "execution_count": null,
   "id": "eba834b9",
   "metadata": {},
   "outputs": [],
   "source": [
    "# Quick look at what the series look like\n",
    "fig, axes = plt.subplots(2, 1, figsize=(8,5), sharex=True)\n",
    "axes[0].plot(df[\"X\"])\n",
    "axes[0].set_title(\"Series X\")\n",
    "axes[1].plot(df[\"Y\"])\n",
    "axes[1].set_title(\"Series Y\")\n",
    "axes[1].set_xlabel(\"time\")\n",
    "plt.tight_layout()\n",
    "plt.show()\n"
   ]
  },
  {
   "cell_type": "code",
   "execution_count": null,
   "id": "080945b7",
   "metadata": {},
   "outputs": [],
   "source": [
    "# Granger test: Does X (lags) help predict Y?\n",
    "# The function expects a 2D array with [Y, X] columns in this order.\n",
    "maxlag = 3\n",
    "print(\"H0: 'X does NOT Granger-cause Y'\")\n",
    "res_xy = grangercausalitytests(df[[\"Y\",\"X\"]], maxlag=maxlag, verbose=False)\n",
    "for lag in range(1, maxlag+1):\n",
    "    pval = res_xy[lag][0][\"ssr_ftest\"][1]\n",
    "    print(f\"lag {lag}: p = {pval:.4f}\")\n",
    "\n",
    "# If the p values are small (e.g., < 0.05), we reject H0 and conclude that X Granger-causes Y."
   ]
  },
  {
   "cell_type": "code",
   "execution_count": null,
   "id": "73987852",
   "metadata": {},
   "outputs": [],
   "source": [
    "\n",
    "# Reverse direction: Does Y Granger-cause X? (should NOT, in our simulation)\n",
    "print(\"H0: 'Y does NOT Granger-cause X'\")\n",
    "res_yx = grangercausalitytests(df[[\"X\",\"Y\"]], maxlag=maxlag, verbose=False)\n",
    "for lag in range(1, maxlag+1):\n",
    "    pval = res_yx[lag][0][\"ssr_ftest\"][1]\n",
    "    print(f\"lag {lag}: p = {pval:.4f}\")\n",
    "\n",
    "# If the p values are small (e.g., < 0.05), we reject H0 and conclude that Y Granger-causes X."
   ]
  },
  {
   "cell_type": "markdown",
   "id": "52a5021e",
   "metadata": {},
   "source": [
    "\n",
    "### 2.2 Caveats you must remember\n",
    "\n",
    "- **Predictive ≠ causal mechanism.** Granger tests predictiveness in time, not true cause.  \n",
    "- **Omitted common causes** can fool the test.  \n",
    "- **Nonstationarity / trends / seasonality** can create false positives — always check and difference if needed.  \n",
    "- **Lag choice matters**: underfitting or overfitting lags changes conclusions.  \n"
   ]
  },
  {
   "cell_type": "markdown",
   "id": "34b51080",
   "metadata": {},
   "source": [
    "\n",
    "## 3) Mini Exercise — Build, test, explain\n",
    "\n",
    "1. **Simulate your own pair of time series** where **Y depends on X with a lag of 2**.  \n",
    "   - Hint: make `Y[t] = 0.5*Y[t-1] + 0.9*X[t-2] + noise`.\n",
    "2. **Run Granger tests** for lags 1..4 in **both directions**.  \n",
    "3. **Explain** in 2–4 sentences why the *reverse* direction should (ideally) not be significant.\n",
    "4. **(Bonus)** Add a seasonal driver to both and observe how it changes results; then remove it by differencing.\n",
    "\n",
    "> Deliverable: a short markdown cell with your explanation + the printed p-values.\n"
   ]
  },
  {
   "cell_type": "code",
   "execution_count": null,
   "id": "00452172",
   "metadata": {},
   "outputs": [],
   "source": [
    "# Your answer goes here.\n",
    "\n"
   ]
  },
  {
   "cell_type": "markdown",
   "id": "7e46eee3",
   "metadata": {},
   "source": [
    "\n",
    "---\n",
    "\n",
    "### Wrap-up\n",
    "\n",
    "- **Pearson**: quick check for linear association.  \n",
    "- **Granger**: tests whether the past of one series improves prediction of another.  \n",
    "- **Beware** trends/seasonality and omitted variables might influence your numbers.\n",
    "  \n"
   ]
  },
  {
   "cell_type": "markdown",
   "id": "2d464a55",
   "metadata": {},
   "source": []
  }
 ],
 "metadata": {
  "kernelspec": {
   "display_name": "3.11.3",
   "language": "python",
   "name": "python3"
  },
  "language_info": {
   "codemirror_mode": {
    "name": "ipython",
    "version": 3
   },
   "file_extension": ".py",
   "mimetype": "text/x-python",
   "name": "python",
   "nbconvert_exporter": "python",
   "pygments_lexer": "ipython3",
   "version": "3.11.3"
  }
 },
 "nbformat": 4,
 "nbformat_minor": 5
}
